{
 "cells": [
  {
   "cell_type": "code",
   "execution_count": 1,
   "id": "3ea923d9",
   "metadata": {},
   "outputs": [],
   "source": [
    "import urllib.request\n",
    "import numpy as np\n",
    "from sklearn.preprocessing import StandardScaler\n",
    "from sklearn.model_selection import train_test_split\n",
    "from sklearn.neural_network import MLPRegressor"
   ]
  },
  {
   "cell_type": "code",
   "execution_count": 2,
   "id": "8a245974",
   "metadata": {},
   "outputs": [],
   "source": [
    "# load the dataset\n",
    "url = \"https://archive.ics.uci.edu/ml/machine-learning-databases/00243/yacht_hydrodynamics.data\" \n",
    "raw_data = urllib.request.urlopen(url)\n",
    "\n",
    "dataset = np.loadtxt(raw_data)"
   ]
  },
  {
   "cell_type": "code",
   "execution_count": 3,
   "id": "d6ee3cb8",
   "metadata": {},
   "outputs": [],
   "source": [
    "# normalizing the features\n",
    "data_scaled = StandardScaler().fit_transform(dataset)"
   ]
  },
  {
   "cell_type": "code",
   "execution_count": 8,
   "id": "5b69edd2",
   "metadata": {},
   "outputs": [],
   "source": [
    "# now split into training and testing set\n",
    "\n",
    "last_dim = data_scaled.shape[1] - 1\n",
    "test_size = 0.25\n",
    "\n",
    "X_train, X_test, y_train, y_test = train_test_split(data_scaled[:, 0:last_dim], data_scaled[:,last_dim],\n",
    "                                                   test_size=test_size, random_state=12)"
   ]
  },
  {
   "cell_type": "code",
   "execution_count": 9,
   "id": "72fbec2c",
   "metadata": {},
   "outputs": [],
   "source": [
    "# current architecture\n",
    "hidden_lay_size = (5,125)\n",
    "max_iter = 7500\n",
    "regr = MLPRegressor(hidden_layer_sizes= hidden_lay_size, random_state=1, max_iter=max_iter).fit(X_train, y_train)"
   ]
  },
  {
   "cell_type": "code",
   "execution_count": 10,
   "id": "06de21e5",
   "metadata": {},
   "outputs": [
    {
     "name": "stdout",
     "output_type": "stream",
     "text": [
      "[0.28526073]\n"
     ]
    }
   ],
   "source": [
    "# try to predict\n",
    "prediction_result = regr.predict(X_test[2:3,:])\n",
    "print(prediction_result)"
   ]
  },
  {
   "cell_type": "code",
   "execution_count": 17,
   "id": "5268c850",
   "metadata": {},
   "outputs": [
    {
     "name": "stdout",
     "output_type": "stream",
     "text": [
      "0.012569490891613487\n"
     ]
    }
   ],
   "source": [
    "error = regr.score(X_test, y_test)/len(y_test)\n",
    "print(error)"
   ]
  }
 ],
 "metadata": {
  "kernelspec": {
   "display_name": "Python 3 (ipykernel)",
   "language": "python",
   "name": "python3"
  },
  "language_info": {
   "codemirror_mode": {
    "name": "ipython",
    "version": 3
   },
   "file_extension": ".py",
   "mimetype": "text/x-python",
   "name": "python",
   "nbconvert_exporter": "python",
   "pygments_lexer": "ipython3",
   "version": "3.8.17"
  }
 },
 "nbformat": 4,
 "nbformat_minor": 5
}
