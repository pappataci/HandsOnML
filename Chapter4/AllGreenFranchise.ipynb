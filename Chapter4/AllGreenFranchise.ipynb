{
 "cells": [
  {
   "cell_type": "code",
   "execution_count": 64,
   "id": "b30421d2",
   "metadata": {},
   "outputs": [],
   "source": [
    "import pandas as pd\n",
    "import matplotlib.pyplot as plt\n",
    "import numpy as np\n",
    "import statsmodels.api as sm\n",
    "\n",
    "df = pd.read_excel(r'../Chapter4/input/mlr05.xls' )"
   ]
  },
  {
   "cell_type": "code",
   "execution_count": 34,
   "id": "b57ce113",
   "metadata": {},
   "outputs": [
    {
     "data": {
      "text/plain": [
       "(30, 6)"
      ]
     },
     "execution_count": 34,
     "metadata": {},
     "output_type": "execute_result"
    }
   ],
   "source": [
    "# X1 annual net sale\n",
    "# X2 number of sq ft\n",
    "# X3 inventory\n",
    "# X4 amount spent on adv\n",
    "# X5 size of sales district\n",
    "# X6 number of competing stores in district"
   ]
  },
  {
   "cell_type": "code",
   "execution_count": 46,
   "id": "ad01095d",
   "metadata": {},
   "outputs": [
    {
     "name": "stdout",
     "output_type": "stream",
     "text": [
      "correlation with annual net sales: -0.87\n",
      "correlation with money spent on adv: -0.84\n"
     ]
    }
   ],
   "source": [
    "# first correlation: money spent of advertising\n",
    "annual_net_sales = np.corrcoef(df.X1, df.X6)\n",
    "money_spent_adv_corr = np.corrcoef(df.X4, df.X6)\n",
    "\n",
    "print(f'correlation with annual net sales: {annual_net_sales[0,1]:.2f}')\n",
    "print(f'correlation with money spent on adv: {money_spent_adv_corr[0,1]:.2f}')\n"
   ]
  },
  {
   "cell_type": "code",
   "execution_count": 65,
   "id": "29d7bc24",
   "metadata": {},
   "outputs": [],
   "source": [
    "# building a linear model using the other columns\n",
    "Xnames = np.ndarray.tolist(df.columns.values[0:5])\n",
    "X = df[Xnames]\n",
    "X = sm.add_constant(X)"
   ]
  },
  {
   "cell_type": "code",
   "execution_count": 69,
   "id": "3f701142",
   "metadata": {},
   "outputs": [],
   "source": [
    "lrm = sm.OLS(df.X6, X).fit()"
   ]
  },
  {
   "cell_type": "code",
   "execution_count": 70,
   "id": "f6cf5b11",
   "metadata": {},
   "outputs": [
    {
     "name": "stdout",
     "output_type": "stream",
     "text": [
      "                            OLS Regression Results                            \n",
      "==============================================================================\n",
      "Dep. Variable:                     X6   R-squared:                       0.849\n",
      "Model:                            OLS   Adj. R-squared:                  0.817\n",
      "Method:                 Least Squares   F-statistic:                     26.92\n",
      "Date:                Mon, 04 Sep 2023   Prob (F-statistic):           4.18e-09\n",
      "Time:                        22:10:01   Log-Likelihood:                -59.968\n",
      "No. Observations:                  30   AIC:                             131.9\n",
      "Df Residuals:                      24   BIC:                             140.3\n",
      "Df Model:                           5                                         \n",
      "Covariance Type:            nonrobust                                         \n",
      "==============================================================================\n",
      "                 coef    std err          t      P>|t|      [0.025      0.975]\n",
      "------------------------------------------------------------------------------\n",
      "const         14.3489      1.766      8.125      0.000      10.704      17.994\n",
      "X1            -0.0263      0.015     -1.811      0.083      -0.056       0.004\n",
      "X2             0.4895      0.441      1.110      0.278      -0.420       1.400\n",
      "X3             0.0139      0.006      2.148      0.042       0.001       0.027\n",
      "X4            -0.5229      0.273     -1.916      0.067      -1.086       0.040\n",
      "X5            -0.1796      0.278     -0.646      0.525      -0.754       0.394\n",
      "==============================================================================\n",
      "Omnibus:                        1.080   Durbin-Watson:                   1.514\n",
      "Prob(Omnibus):                  0.583   Jarque-Bera (JB):                1.007\n",
      "Skew:                           0.275   Prob(JB):                        0.605\n",
      "Kurtosis:                       2.290   Cond. No.                     2.79e+03\n",
      "==============================================================================\n",
      "\n",
      "Notes:\n",
      "[1] Standard Errors assume that the covariance matrix of the errors is correctly specified.\n",
      "[2] The condition number is large, 2.79e+03. This might indicate that there are\n",
      "strong multicollinearity or other numerical problems.\n"
     ]
    }
   ],
   "source": [
    "print(lrm.summary())"
   ]
  }
 ],
 "metadata": {
  "kernelspec": {
   "display_name": "Python 3 (ipykernel)",
   "language": "python",
   "name": "python3"
  },
  "language_info": {
   "codemirror_mode": {
    "name": "ipython",
    "version": 3
   },
   "file_extension": ".py",
   "mimetype": "text/x-python",
   "name": "python",
   "nbconvert_exporter": "python",
   "pygments_lexer": "ipython3",
   "version": "3.8.17"
  }
 },
 "nbformat": 4,
 "nbformat_minor": 5
}
