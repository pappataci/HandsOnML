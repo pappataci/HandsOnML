{
 "cells": [
  {
   "cell_type": "code",
   "execution_count": 1,
   "metadata": {},
   "outputs": [],
   "source": [
    "import pandas as pd\n",
    "import numpy as np\n",
    "import statsmodels.api as sm\n",
    "from sklearn import preprocessing\n",
    "import statsmodels.api as sm"
   ]
  },
  {
   "cell_type": "code",
   "execution_count": 2,
   "metadata": {},
   "outputs": [],
   "source": [
    "# import the data\n",
    "df = pd.read_csv(r'./input/Boston.csv')\n",
    "x = df.values\n",
    "scaler = preprocessing.MinMaxScaler()\n",
    "x_scaled = scaler.fit_transform(x)"
   ]
  },
  {
   "cell_type": "code",
   "execution_count": 3,
   "metadata": {},
   "outputs": [],
   "source": [
    "df_scaled = pd.DataFrame(x_scaled , columns= df.columns)"
   ]
  },
  {
   "cell_type": "code",
   "execution_count": 4,
   "metadata": {},
   "outputs": [],
   "source": [
    "def create_df_without_explantory(df:pd.DataFrame, output_var ='nox' ):\n",
    "    return df.drop(['Unnamed: 0', output_var], axis=1) , df[output_var].to_numpy()"
   ]
  },
  {
   "cell_type": "code",
   "execution_count": 5,
   "metadata": {},
   "outputs": [],
   "source": [
    "df_X , y = create_df_without_explantory(df_scaled)"
   ]
  },
  {
   "cell_type": "code",
   "execution_count": 6,
   "metadata": {},
   "outputs": [],
   "source": [
    "def get_OLS_model(X, y):\n",
    "    X = sm.add_constant(X)\n",
    "    return sm.OLS(y, X ).fit()"
   ]
  },
  {
   "cell_type": "code",
   "execution_count": 7,
   "metadata": {},
   "outputs": [],
   "source": [
    "models = [get_OLS_model(df_X[col] , y ) for col in df_X.columns]"
   ]
  },
  {
   "cell_type": "code",
   "execution_count": 8,
   "metadata": {},
   "outputs": [],
   "source": [
    "adjusted_r2 = [m.rsquared_adj for m in models]"
   ]
  },
  {
   "cell_type": "code",
   "execution_count": 9,
   "metadata": {},
   "outputs": [],
   "source": [
    "ordered_indeces = np.argsort(np.abs(adjusted_r2))[-1::-1]"
   ]
  },
  {
   "cell_type": "code",
   "execution_count": 21,
   "metadata": {},
   "outputs": [
    {
     "name": "stdout",
     "output_type": "stream",
     "text": [
      "Var with best R2: dis; with adjusted R2: 0.5909048777424147\n",
      "Best predictor: dis\n"
     ]
    }
   ],
   "source": [
    "best_index = ordered_indeces[0]\n",
    "best_col_name = df_X.columns[best_index]\n",
    "best_correlation_value =  adjusted_r2[best_index]\n",
    "\n",
    "print(f'Var with best R2: {best_col_name}; with adjusted R2: {best_correlation_value}')\n",
    "print(f'Best predictor: {best_col_name}')\n",
    "\n",
    "# print(f'{corr_coeff[ordered_indeces][1]}')"
   ]
  },
  {
   "cell_type": "code",
   "execution_count": 12,
   "metadata": {},
   "outputs": [],
   "source": [
    "# now providing the best regression model\n",
    "winning_model = models[best_index]"
   ]
  },
  {
   "cell_type": "code",
   "execution_count": 13,
   "metadata": {},
   "outputs": [
    {
     "data": {
      "text/html": [
       "<table class=\"simpletable\">\n",
       "<caption>OLS Regression Results</caption>\n",
       "<tr>\n",
       "  <th>Dep. Variable:</th>            <td>y</td>        <th>  R-squared:         </th> <td>   0.592</td> \n",
       "</tr>\n",
       "<tr>\n",
       "  <th>Model:</th>                   <td>OLS</td>       <th>  Adj. R-squared:    </th> <td>   0.591</td> \n",
       "</tr>\n",
       "<tr>\n",
       "  <th>Method:</th>             <td>Least Squares</td>  <th>  F-statistic:       </th> <td>   730.4</td> \n",
       "</tr>\n",
       "<tr>\n",
       "  <th>Date:</th>             <td>Sun, 03 Sep 2023</td> <th>  Prob (F-statistic):</th> <td>4.23e-100</td>\n",
       "</tr>\n",
       "<tr>\n",
       "  <th>Time:</th>                 <td>08:49:27</td>     <th>  Log-Likelihood:    </th> <td>  234.59</td> \n",
       "</tr>\n",
       "<tr>\n",
       "  <th>No. Observations:</th>      <td>   506</td>      <th>  AIC:               </th> <td>  -465.2</td> \n",
       "</tr>\n",
       "<tr>\n",
       "  <th>Df Residuals:</th>          <td>   504</td>      <th>  BIC:               </th> <td>  -456.7</td> \n",
       "</tr>\n",
       "<tr>\n",
       "  <th>Df Model:</th>              <td>     1</td>      <th>                     </th>     <td> </td>    \n",
       "</tr>\n",
       "<tr>\n",
       "  <th>Covariance Type:</th>      <td>nonrobust</td>    <th>                     </th>     <td> </td>    \n",
       "</tr>\n",
       "</table>\n",
       "<table class=\"simpletable\">\n",
       "<tr>\n",
       "    <td></td>       <th>coef</th>     <th>std err</th>      <th>t</th>      <th>P>|t|</th>  <th>[0.025</th>    <th>0.975]</th>  \n",
       "</tr>\n",
       "<tr>\n",
       "  <th>const</th> <td>    0.5813</td> <td>    0.011</td> <td>   53.123</td> <td> 0.000</td> <td>    0.560</td> <td>    0.603</td>\n",
       "</tr>\n",
       "<tr>\n",
       "  <th>dis</th>   <td>   -0.9578</td> <td>    0.035</td> <td>  -27.027</td> <td> 0.000</td> <td>   -1.027</td> <td>   -0.888</td>\n",
       "</tr>\n",
       "</table>\n",
       "<table class=\"simpletable\">\n",
       "<tr>\n",
       "  <th>Omnibus:</th>       <td>71.354</td> <th>  Durbin-Watson:     </th> <td>   0.211</td>\n",
       "</tr>\n",
       "<tr>\n",
       "  <th>Prob(Omnibus):</th> <td> 0.000</td> <th>  Jarque-Bera (JB):  </th> <td> 100.560</td>\n",
       "</tr>\n",
       "<tr>\n",
       "  <th>Skew:</th>          <td> 0.983</td> <th>  Prob(JB):          </th> <td>1.46e-22</td>\n",
       "</tr>\n",
       "<tr>\n",
       "  <th>Kurtosis:</th>      <td> 3.953</td> <th>  Cond. No.          </th> <td>    5.55</td>\n",
       "</tr>\n",
       "</table><br/><br/>Notes:<br/>[1] Standard Errors assume that the covariance matrix of the errors is correctly specified."
      ],
      "text/latex": [
       "\\begin{center}\n",
       "\\begin{tabular}{lclc}\n",
       "\\toprule\n",
       "\\textbf{Dep. Variable:}    &        y         & \\textbf{  R-squared:         } &     0.592   \\\\\n",
       "\\textbf{Model:}            &       OLS        & \\textbf{  Adj. R-squared:    } &     0.591   \\\\\n",
       "\\textbf{Method:}           &  Least Squares   & \\textbf{  F-statistic:       } &     730.4   \\\\\n",
       "\\textbf{Date:}             & Sun, 03 Sep 2023 & \\textbf{  Prob (F-statistic):} & 4.23e-100   \\\\\n",
       "\\textbf{Time:}             &     08:49:27     & \\textbf{  Log-Likelihood:    } &    234.59   \\\\\n",
       "\\textbf{No. Observations:} &         506      & \\textbf{  AIC:               } &    -465.2   \\\\\n",
       "\\textbf{Df Residuals:}     &         504      & \\textbf{  BIC:               } &    -456.7   \\\\\n",
       "\\textbf{Df Model:}         &           1      & \\textbf{                     } &             \\\\\n",
       "\\textbf{Covariance Type:}  &    nonrobust     & \\textbf{                     } &             \\\\\n",
       "\\bottomrule\n",
       "\\end{tabular}\n",
       "\\begin{tabular}{lcccccc}\n",
       "               & \\textbf{coef} & \\textbf{std err} & \\textbf{t} & \\textbf{P$> |$t$|$} & \\textbf{[0.025} & \\textbf{0.975]}  \\\\\n",
       "\\midrule\n",
       "\\textbf{const} &       0.5813  &        0.011     &    53.123  &         0.000        &        0.560    &        0.603     \\\\\n",
       "\\textbf{dis}   &      -0.9578  &        0.035     &   -27.027  &         0.000        &       -1.027    &       -0.888     \\\\\n",
       "\\bottomrule\n",
       "\\end{tabular}\n",
       "\\begin{tabular}{lclc}\n",
       "\\textbf{Omnibus:}       & 71.354 & \\textbf{  Durbin-Watson:     } &    0.211  \\\\\n",
       "\\textbf{Prob(Omnibus):} &  0.000 & \\textbf{  Jarque-Bera (JB):  } &  100.560  \\\\\n",
       "\\textbf{Skew:}          &  0.983 & \\textbf{  Prob(JB):          } & 1.46e-22  \\\\\n",
       "\\textbf{Kurtosis:}      &  3.953 & \\textbf{  Cond. No.          } &     5.55  \\\\\n",
       "\\bottomrule\n",
       "\\end{tabular}\n",
       "%\\caption{OLS Regression Results}\n",
       "\\end{center}\n",
       "\n",
       "Notes: \\newline\n",
       " [1] Standard Errors assume that the covariance matrix of the errors is correctly specified."
      ],
      "text/plain": [
       "<class 'statsmodels.iolib.summary.Summary'>\n",
       "\"\"\"\n",
       "                            OLS Regression Results                            \n",
       "==============================================================================\n",
       "Dep. Variable:                      y   R-squared:                       0.592\n",
       "Model:                            OLS   Adj. R-squared:                  0.591\n",
       "Method:                 Least Squares   F-statistic:                     730.4\n",
       "Date:                Sun, 03 Sep 2023   Prob (F-statistic):          4.23e-100\n",
       "Time:                        08:49:27   Log-Likelihood:                 234.59\n",
       "No. Observations:                 506   AIC:                            -465.2\n",
       "Df Residuals:                     504   BIC:                            -456.7\n",
       "Df Model:                           1                                         \n",
       "Covariance Type:            nonrobust                                         \n",
       "==============================================================================\n",
       "                 coef    std err          t      P>|t|      [0.025      0.975]\n",
       "------------------------------------------------------------------------------\n",
       "const          0.5813      0.011     53.123      0.000       0.560       0.603\n",
       "dis           -0.9578      0.035    -27.027      0.000      -1.027      -0.888\n",
       "==============================================================================\n",
       "Omnibus:                       71.354   Durbin-Watson:                   0.211\n",
       "Prob(Omnibus):                  0.000   Jarque-Bera (JB):              100.560\n",
       "Skew:                           0.983   Prob(JB):                     1.46e-22\n",
       "Kurtosis:                       3.953   Cond. No.                         5.55\n",
       "==============================================================================\n",
       "\n",
       "Notes:\n",
       "[1] Standard Errors assume that the covariance matrix of the errors is correctly specified.\n",
       "\"\"\""
      ]
     },
     "execution_count": 13,
     "metadata": {},
     "output_type": "execute_result"
    }
   ],
   "source": [
    "winning_model.summary()"
   ]
  },
  {
   "cell_type": "code",
   "execution_count": 14,
   "metadata": {},
   "outputs": [],
   "source": [
    "unscaled_input = df[best_col_name]"
   ]
  },
  {
   "cell_type": "code",
   "execution_count": 15,
   "metadata": {},
   "outputs": [],
   "source": [
    "def scaled_back(scaled, min_value, max_value):\n",
    "    amplifier = max_value - min_value\n",
    "    return min_value + amplifier * scaled"
   ]
  },
  {
   "cell_type": "code",
   "execution_count": 16,
   "metadata": {},
   "outputs": [],
   "source": [
    "min_X_value, max_X_value = df[best_col_name].min() ,df[best_col_name].max()\n",
    "min_y_value , max_y_alue = df.nox.min(), df.nox.max()"
   ]
  },
  {
   "cell_type": "code",
   "execution_count": 32,
   "metadata": {},
   "outputs": [],
   "source": [
    "def get_scaled_prediction(model , n_samples=100):\n",
    "    X_prime = np.linspace(0.0, 1.0, num=n_samples)\n",
    "    X_prime = sm.add_constant(X_prime)\n",
    "    return  X_prime[:,1], model.predict(X_prime)\n"
   ]
  },
  {
   "cell_type": "code",
   "execution_count": 33,
   "metadata": {},
   "outputs": [],
   "source": [
    "import matplotlib.pyplot as plt\n",
    "scaled_inputs, scaled_predictions = get_scaled_prediction(winning_model)"
   ]
  },
  {
   "cell_type": "code",
   "execution_count": 30,
   "metadata": {},
   "outputs": [],
   "source": [
    "unscaled_predictions = scaled_back(scaled_predictions, min_y_value, max_y_alue)\n",
    "unscaled_inputs = scaled_back(scaled_inputs , min_X_value, max_X_value)"
   ]
  },
  {
   "cell_type": "code",
   "execution_count": 40,
   "metadata": {},
   "outputs": [
    {
     "data": {
      "text/plain": [
       "(100,)"
      ]
     },
     "execution_count": 40,
     "metadata": {},
     "output_type": "execute_result"
    }
   ],
   "source": [
    "unscaled_predictions.shape"
   ]
  },
  {
   "cell_type": "code",
   "execution_count": 43,
   "metadata": {},
   "outputs": [
    {
     "data": {
      "text/plain": [
       "[<matplotlib.lines.Line2D at 0x286540d30>]"
      ]
     },
     "execution_count": 43,
     "metadata": {},
     "output_type": "execute_result"
    },
    {
     "data": {
      "image/png": "[encoded data removed]",
      "text/plain": [
       "<Figure size 640x480 with 1 Axes>"
      ]
     },
     "metadata": {},
     "output_type": "display_data"
    }
   ],
   "source": [
    "plt.scatter(df[best_col_name], y)\n",
    "plt.xlabel(\"Weighted Distance to five Boston Employment Centers\")\n",
    "plt.ylabel(\"NOx\")\n",
    "plt.plot(unscaled_inputs, unscaled_predictions, 'red', alpha=0.9)"
   ]
  }
 ],
 "metadata": {
  "kernelspec": {
   "display_name": "py38",
   "language": "python",
   "name": "python3"
  },
  "language_info": {
   "codemirror_mode": {
    "name": "ipython",
    "version": 3
   },
   "file_extension": ".py",
   "mimetype": "text/x-python",
   "name": "python",
   "nbconvert_exporter": "python",
   "pygments_lexer": "ipython3",
   "version": "3.8.17"
  },
  "orig_nbformat": 4
 },
 "nbformat": 4,
 "nbformat_minor": 2
}
