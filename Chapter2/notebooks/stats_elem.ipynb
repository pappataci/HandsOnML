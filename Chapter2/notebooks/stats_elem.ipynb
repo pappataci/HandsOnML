{
 "cells": [
  {
   "cell_type": "code",
   "execution_count": 4,
   "metadata": {},
   "outputs": [],
   "source": [
    "import numpy as np"
   ]
  },
  {
   "cell_type": "code",
   "execution_count": 5,
   "metadata": {},
   "outputs": [],
   "source": [
    "data1= [85,62,78,64,25,12,74,96,63,45,78,20,5,30,45,78,45,96,65,45, 74,12,78,23,8]"
   ]
  },
  {
   "cell_type": "code",
   "execution_count": 15,
   "metadata": {},
   "outputs": [
    {
     "name": "stdout",
     "output_type": "stream",
     "text": [
      "Max:96\n",
      "Min:5\n",
      "Min: 52.2400\n",
      "Variance:791.3824, STD:  28.1315\n",
      "Median:  62.0000\n"
     ]
    }
   ],
   "source": [
    "max = np.max(data1)\n",
    "print(f'Max:{max:d}')\n",
    "min = np.min(data1)\n",
    "print(f'Min:{min:d}')\n",
    "mean = np.mean(data1)\n",
    "print(f'Min:{mean:8.4f}')\n",
    "variance = np.var(data1)\n",
    "standarddev = np.std(data1)\n",
    "print(f'Variance:{variance:8.4f}, STD: {standarddev:8.4f}')\n",
    "\n",
    "median = np.median(data1)\n",
    "print(f'Median: {median:8.4f}')\n"
   ]
  },
  {
   "cell_type": "code",
   "execution_count": 30,
   "metadata": {},
   "outputs": [
    {
     "data": {
      "text/plain": [
       "<Figure size 640x480 with 0 Axes>"
      ]
     },
     "metadata": {},
     "output_type": "display_data"
    }
   ],
   "source": [
    "import matplotlib.pyplot as plt\n",
    "\n",
    "plt.figure()\n",
    "hist1, edges1 = np.histogram(data1)\n"
   ]
  },
  {
   "cell_type": "code",
   "execution_count": 31,
   "metadata": {},
   "outputs": [
    {
     "data": {
      "text/plain": [
       "<BarContainer object of 10 artists>"
      ]
     },
     "execution_count": 31,
     "metadata": {},
     "output_type": "execute_result"
    },
    {
     "data": {
      "image/png": "[encoded data removed]",
      "text/plain": [
       "<Figure size 640x480 with 1 Axes>"
      ]
     },
     "metadata": {},
     "output_type": "display_data"
    }
   ],
   "source": [
    "plt.bar( edges1[:-1] , hist1, width=edges1[1:] -edges1[:-1])"
   ]
  },
  {
   "cell_type": "code",
   "execution_count": 33,
   "metadata": {},
   "outputs": [],
   "source": [
    "num_samples, n_bins = 1000, 100\n",
    "data2 = np.random.randn(num_samples)"
   ]
  },
  {
   "cell_type": "code",
   "execution_count": null,
   "metadata": {},
   "outputs": [],
   "source": [
    "plt.figure()\n",
    "hist2, edges2 = np.histogram(data2, bins=n_bins)\n",
    "plt.bar(edges2[:-1], hist2, width=edges2[1:] -edges2[:-1])"
   ]
  }
 ],
 "metadata": {
  "kernelspec": {
   "display_name": "py38",
   "language": "python",
   "name": "python3"
  },
  "language_info": {
   "codemirror_mode": {
    "name": "ipython",
    "version": 3
   },
   "file_extension": ".py",
   "mimetype": "text/x-python",
   "name": "python",
   "nbconvert_exporter": "python",
   "pygments_lexer": "ipython3",
   "version": "3.8.17"
  },
  "orig_nbformat": 4
 },
 "nbformat": 4,
 "nbformat_minor": 2
}
